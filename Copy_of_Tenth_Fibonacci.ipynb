{
  "nbformat": 4,
  "nbformat_minor": 0,
  "metadata": {
    "colab": {
      "provenance": [],
      "include_colab_link": true
    },
    "kernelspec": {
      "name": "python3",
      "display_name": "Python 3"
    },
    "language_info": {
      "name": "python"
    }
  },
  "cells": [
    {
      "cell_type": "markdown",
      "metadata": {
        "id": "view-in-github",
        "colab_type": "text"
      },
      "source": [
        "<a href=\"https://colab.research.google.com/github/tkwang312/Fibonnaci-number-spreadsheets/blob/main/Copy_of_Tenth_Fibonacci.ipynb\" target=\"_parent\"><img src=\"https://colab.research.google.com/assets/colab-badge.svg\" alt=\"Open In Colab\"/></a>"
      ]
    },
    {
      "cell_type": "code",
      "metadata": {
        "colab": {
          "base_uri": "https://localhost:8080/"
        },
        "id": "cKrgabBpBsuu",
        "outputId": "5438248e-58f9-4dcd-fa2e-f2203c8ddbc5"
      },
      "source": [
        "nterms = 10\n",
        "\n",
        "n1, n2 = 0, 1\n",
        "count = 0\n",
        "\n",
        "while count < nterms:\n",
        "  nth = n1 + n2\n",
        "  n1 = n2\n",
        "  n2 = nth\n",
        "  count += 1\n",
        "\n",
        "print(n1)"
      ],
      "execution_count": null,
      "outputs": [
        {
          "output_type": "stream",
          "name": "stdout",
          "text": [
            "55\n"
          ]
        }
      ]
    },
    {
      "cell_type": "code",
      "metadata": {
        "colab": {
          "base_uri": "https://localhost:8080/"
        },
        "id": "ubfsCtdwK2hs",
        "outputId": "cf54e6f0-3ccd-4d4b-dbc0-00d45a4c5120"
      },
      "source": [
        "int1 = int(input(\"Give one integer \"))\n",
        "int2 = int(input(\"Give another integer \"))\n",
        "\n",
        "def gcd(x, y):\n",
        "  while y != 0:\n",
        "    x, y = y, x % y\n",
        "  print(x)\n",
        "\n",
        "gcd(int1, int2)"
      ],
      "execution_count": null,
      "outputs": [
        {
          "output_type": "stream",
          "name": "stdout",
          "text": [
            "Give one integer 27\n",
            "Give another integer 9\n",
            "9\n"
          ]
        }
      ]
    },
    {
      "cell_type": "code",
      "metadata": {
        "colab": {
          "base_uri": "https://localhost:8080/"
        },
        "id": "AWAWbJL7L_Y9",
        "outputId": "e8b7451a-0f80-4562-e2dd-801e531a5d48"
      },
      "source": [
        "\n",
        "matrix1 = [[1], \n",
        "           [7], \n",
        "           [4]]\n",
        "\n",
        "matrix2 = [3, 5, 9]\n",
        "\n",
        "a = 0\n",
        "\n",
        "num = 0\n",
        "\n",
        "while a < 3:\n",
        "  num += matrix2[a] * matrix1[a][0]\n",
        "  a += 1\n",
        "\n",
        "print(num)"
      ],
      "execution_count": null,
      "outputs": [
        {
          "output_type": "stream",
          "name": "stdout",
          "text": [
            "74\n"
          ]
        }
      ]
    },
    {
      "cell_type": "code",
      "metadata": {
        "id": "nF1pBx5QL_1b",
        "colab": {
          "base_uri": "https://localhost:8080/"
        },
        "outputId": "a5d8f6b0-a19a-4b8f-deba-10ddd92e0bec"
      },
      "source": [
        "m1 = [[1, 2], \n",
        "      [3, 4]]\n",
        "\n",
        "m2 = [[5, 6], \n",
        "      [7, 8]]\n",
        "\n",
        "m3row1 = []\n",
        "\n",
        "m3row2 = []\n",
        "\n",
        "m3 = []\n",
        "\n",
        "a = 0\n",
        "\n",
        "num1, num2, num3, num4 = 0, 0, 0, 0\n",
        "\n",
        "while a < 2:\n",
        "  num1 += m1[0][a] * m2[a][0]\n",
        "  num2 += m1[0][a] * m2[a][1]\n",
        "  num3 += m1[1][a] * m2[a][0]\n",
        "  num4 += m1[1][a] * m2[a][1]\n",
        "  a += 1\n",
        "\n",
        "\n",
        "\n",
        "m3row1.append(num1)\n",
        "m3row1.append(num2)\n",
        "m3row2.append(num3)\n",
        "m3row2.append(num4)\n",
        "m3.append(m3row1)\n",
        "m3.append(m3row2)\n",
        "\n",
        "print(m3)\n",
        "\n",
        "\n",
        "\n"
      ],
      "execution_count": null,
      "outputs": [
        {
          "output_type": "stream",
          "name": "stdout",
          "text": [
            "[[19, 22], [43, 50]]\n"
          ]
        }
      ]
    },
    {
      "cell_type": "code",
      "metadata": {
        "id": "WeSKQBwHdG9Q"
      },
      "source": [],
      "execution_count": null,
      "outputs": []
    },
    {
      "cell_type": "code",
      "metadata": {
        "id": "EyFnq8W7lTuZ",
        "colab": {
          "base_uri": "https://localhost:8080/"
        },
        "outputId": "51fed41e-c980-4413-a663-ce29c7dfba5f"
      },
      "source": [
        "from google.colab import auth\n",
        "auth.authenticate_user()\n",
        "\n",
        "import gspread\n",
        "from oauth2client.client import GoogleCredentials\n",
        "\n",
        "gc = gspread.authorize(GoogleCredentials.get_application_default())\n",
        "\n",
        "sheet = gc.open(\"Ed and Larry Data ATM\").sheet1\n",
        "\n",
        "rows = sheet.get_all_values()\n",
        "\n",
        "rows.remove([\"Ed\", \"Larry\", \"Dot Product\", \"Product\"])\n",
        "\n",
        "a, b, c, d = rows\n",
        "\n",
        "e, f, q, z = a\n",
        "\n",
        "g, h, n, y = b\n",
        "\n",
        "j, k, o, x = c\n",
        "\n",
        "l, m, p, t = d\n",
        "\n",
        "m1 = [int(e), int(g), int(j), int(l)]\n",
        "\n",
        "m2 = [[int(f)], \n",
        "      [int(h)], \n",
        "      [int(k)], \n",
        "      [int(m)]]\n",
        "\n",
        "m3 = [int(f), int(h), int(k), int(m)]\n",
        "\n",
        "m4 = []\n",
        "\n",
        "a = 0\n",
        "\n",
        "r = 0\n",
        "\n",
        "num = 0\n",
        "\n",
        "for i in m1:\n",
        "  m4.append(m1[r] * m3[r])\n",
        "  r += 1\n",
        "\n",
        "while a < 4:\n",
        "  num += m1[a] * m2[a][0]\n",
        "  a += 1\n",
        "\n",
        "print(m4)\n",
        "\n",
        "#cell_list = sheet.range(\"C2:C2\")\n",
        "\n",
        "cell_list2 = sheet.range(\"D2:D5\")\n",
        "\n",
        "for cell in cell_list2:\n",
        "  for i in m4:\n",
        "    cell.value = i\n",
        "\n",
        "#for cell in cell_list:\n",
        "  #cell.value = num\n",
        "\n",
        "#sheet.update_cells(cell_list)\n",
        "sheet.update_cells(cell_list2)"
      ],
      "execution_count": null,
      "outputs": [
        {
          "output_type": "stream",
          "name": "stdout",
          "text": [
            "[5, -10, 80, 144]\n"
          ]
        },
        {
          "output_type": "execute_result",
          "data": {
            "text/plain": [
              "{'spreadsheetId': '1Wc89kEKdG4OJh6ErusR-3oh0-FoKSVo6Adl6p369q44',\n",
              " 'updatedCells': 4,\n",
              " 'updatedColumns': 1,\n",
              " 'updatedRange': 'Sheet1!D2:D5',\n",
              " 'updatedRows': 4}"
            ]
          },
          "metadata": {},
          "execution_count": 7
        }
      ]
    },
    {
      "cell_type": "code",
      "metadata": {
        "id": "-naCuVjfyING"
      },
      "source": [],
      "execution_count": null,
      "outputs": []
    }
  ]
}